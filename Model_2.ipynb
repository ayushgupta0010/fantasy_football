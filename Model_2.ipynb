{
 "cells": [
  {
   "cell_type": "code",
   "execution_count": 1,
   "id": "a611e60d-1603-4b82-8d4a-390cba1a178f",
   "metadata": {},
   "outputs": [],
   "source": [
    "import pandas as pd\n",
    "import numpy as np\n",
    "from sklearn.ensemble import RandomForestRegressor\n",
    "from sklearn.model_selection import RandomizedSearchCV, cross_val_score, train_test_split\n",
    "from sklearn.metrics import mean_squared_error, mean_absolute_error\n",
    "from sklearn.preprocessing import LabelEncoder\n",
    "from scipy.stats import randint, uniform"
   ]
  },
  {
   "cell_type": "code",
   "execution_count": 11,
   "id": "139645c1-7f42-44f0-a117-052f8646c70e",
   "metadata": {},
   "outputs": [
    {
     "data": {
      "text/html": [
       "<div>\n",
       "<style scoped>\n",
       "    .dataframe tbody tr th:only-of-type {\n",
       "        vertical-align: middle;\n",
       "    }\n",
       "\n",
       "    .dataframe tbody tr th {\n",
       "        vertical-align: top;\n",
       "    }\n",
       "\n",
       "    .dataframe thead th {\n",
       "        text-align: right;\n",
       "    }\n",
       "</style>\n",
       "<table border=\"1\" class=\"dataframe\">\n",
       "  <thead>\n",
       "    <tr style=\"text-align: right;\">\n",
       "      <th></th>\n",
       "      <th>Player</th>\n",
       "      <th>Season</th>\n",
       "      <th>Passing Yds</th>\n",
       "      <th>Passing Tds</th>\n",
       "      <th>Rushing Yds</th>\n",
       "      <th>Rushing Tds</th>\n",
       "      <th>Receiving Yds</th>\n",
       "      <th>Receiving Tds</th>\n",
       "      <th>VBD</th>\n",
       "    </tr>\n",
       "  </thead>\n",
       "  <tbody>\n",
       "    <tr>\n",
       "      <th>0</th>\n",
       "      <td>Ron Johnson</td>\n",
       "      <td>1970</td>\n",
       "      <td>0</td>\n",
       "      <td>0</td>\n",
       "      <td>1027</td>\n",
       "      <td>8</td>\n",
       "      <td>48</td>\n",
       "      <td>5</td>\n",
       "      <td>135</td>\n",
       "    </tr>\n",
       "    <tr>\n",
       "      <th>1</th>\n",
       "      <td>Gene Washington</td>\n",
       "      <td>1970</td>\n",
       "      <td>0</td>\n",
       "      <td>0</td>\n",
       "      <td>0</td>\n",
       "      <td>0</td>\n",
       "      <td>44</td>\n",
       "      <td>1</td>\n",
       "      <td>33</td>\n",
       "    </tr>\n",
       "    <tr>\n",
       "      <th>2</th>\n",
       "      <td>MacArthur Lane</td>\n",
       "      <td>1970</td>\n",
       "      <td>0</td>\n",
       "      <td>0</td>\n",
       "      <td>977</td>\n",
       "      <td>11</td>\n",
       "      <td>32</td>\n",
       "      <td>2</td>\n",
       "      <td>126</td>\n",
       "    </tr>\n",
       "    <tr>\n",
       "      <th>3</th>\n",
       "      <td>Warren Wells</td>\n",
       "      <td>1970</td>\n",
       "      <td>0</td>\n",
       "      <td>0</td>\n",
       "      <td>34</td>\n",
       "      <td>0</td>\n",
       "      <td>43</td>\n",
       "      <td>0</td>\n",
       "      <td>112</td>\n",
       "    </tr>\n",
       "    <tr>\n",
       "      <th>4</th>\n",
       "      <td>John Brodie</td>\n",
       "      <td>1970</td>\n",
       "      <td>2941</td>\n",
       "      <td>24</td>\n",
       "      <td>29</td>\n",
       "      <td>2</td>\n",
       "      <td>0</td>\n",
       "      <td>1</td>\n",
       "      <td>105</td>\n",
       "    </tr>\n",
       "  </tbody>\n",
       "</table>\n",
       "</div>"
      ],
      "text/plain": [
       "            Player  Season  Passing Yds  Passing Tds  Rushing Yds  \\\n",
       "0      Ron Johnson    1970            0            0         1027   \n",
       "1  Gene Washington    1970            0            0            0   \n",
       "2   MacArthur Lane    1970            0            0          977   \n",
       "3     Warren Wells    1970            0            0           34   \n",
       "4      John Brodie    1970         2941           24           29   \n",
       "\n",
       "   Rushing Tds  Receiving Yds  Receiving Tds  VBD  \n",
       "0            8             48              5  135  \n",
       "1            0             44              1   33  \n",
       "2           11             32              2  126  \n",
       "3            0             43              0  112  \n",
       "4            2              0              1  105  "
      ]
     },
     "execution_count": 11,
     "metadata": {},
     "output_type": "execute_result"
    }
   ],
   "source": [
    "df = pd.read_csv('data.csv')\n",
    "df.head()"
   ]
  },
  {
   "cell_type": "code",
   "execution_count": 12,
   "id": "c8febb59-94df-4f98-acc3-270ab6ac6871",
   "metadata": {},
   "outputs": [],
   "source": [
    "labelencoder = LabelEncoder()\n",
    "df['Player_no'] = labelencoder.fit_transform(df['Player'])\n",
    "\n",
    "X = df.drop(columns=['Player', 'VBD'])\n",
    "y = df['VBD']\n",
    "\n",
    "X_train, X_test, y_train, y_test = train_test_split(X, y, test_size=0.2, random_state=42)"
   ]
  },
  {
   "cell_type": "code",
   "execution_count": 13,
   "id": "c610005f-2882-4f16-ab64-d2083553ac40",
   "metadata": {},
   "outputs": [
    {
     "name": "stdout",
     "output_type": "stream",
     "text": [
      "Fitting 5 folds for each of 50 candidates, totalling 250 fits\n",
      "Best hyperparameters: {'max_depth': 15, 'max_features': 0.5704621124873813, 'min_samples_leaf': 1, 'min_samples_split': 2, 'n_estimators': 426}\n"
     ]
    }
   ],
   "source": [
    "rf = RandomForestRegressor(random_state=42)\n",
    "\n",
    "param_dist = {\n",
    "    'n_estimators': randint(100, 500),\n",
    "    'max_depth': randint(3, 20),\n",
    "    'min_samples_split': randint(2, 10),\n",
    "    'min_samples_leaf': randint(1, 10),\n",
    "    'max_features': uniform(0.5, 0.5)  # try between 0.5 and 1.0\n",
    "}\n",
    "\n",
    "search = RandomizedSearchCV(\n",
    "    rf,\n",
    "    param_distributions=param_dist,\n",
    "    n_iter=50,\n",
    "    scoring='neg_mean_squared_error',\n",
    "    cv=5,\n",
    "    random_state=42,\n",
    "    n_jobs=-1,\n",
    "    verbose=1\n",
    ")\n",
    "\n",
    "search.fit(X_train, y_train)\n",
    "\n",
    "print('Best hyperparameters:', search.best_params_)"
   ]
  },
  {
   "cell_type": "code",
   "execution_count": 14,
   "id": "c8aaf42a-88f3-42db-9b48-b742ac80a867",
   "metadata": {},
   "outputs": [
    {
     "name": "stdout",
     "output_type": "stream",
     "text": [
      "\n",
      "Test set performance:\n",
      "  MSE : 69.79\n",
      "  RMSE: 8.35\n",
      "  MAE : 2.70\n"
     ]
    }
   ],
   "source": [
    "best_rf = search.best_estimator_\n",
    "y_pred = best_rf.predict(X_test)\n",
    "\n",
    "mse = mean_squared_error(y_test, y_pred)\n",
    "rmse = np.sqrt(mse)\n",
    "mae = mean_absolute_error(y_test, y_pred)\n",
    "\n",
    "print(f'\\nTest set performance:')\n",
    "print(f'  MSE : {mse:.2f}')\n",
    "print(f'  RMSE: {rmse:.2f}')\n",
    "print(f'  MAE : {mae:.2f}')"
   ]
  },
  {
   "cell_type": "code",
   "execution_count": 15,
   "id": "9966295a-0e4c-43de-a96f-a46bf314ef61",
   "metadata": {},
   "outputs": [
    {
     "name": "stdout",
     "output_type": "stream",
     "text": [
      "5‑fold CV RMSE: 8.35 ± 0.08\n"
     ]
    }
   ],
   "source": [
    "# Cross‑validated RMSE on the full training set\n",
    "cv_scores = cross_val_score(best_rf, X_train, y_train, scoring='neg_mean_squared_error', cv=5, n_jobs=-1)\n",
    "cv_rmse = np.sqrt(-cv_scores)\n",
    "print(f'5‑fold CV RMSE: {cv_rmse.mean():.2f} ± {cv_rmse.std():.2f}')"
   ]
  },
  {
   "cell_type": "code",
   "execution_count": 16,
   "id": "5b541a0f-2ab0-45ac-ab35-168cd7e03b84",
   "metadata": {},
   "outputs": [],
   "source": [
    "# Refit on entire dataset and assign scores\n",
    "best_rf.fit(X, y)\n",
    "df['Predicted_Score'] = best_rf.predict(X)"
   ]
  },
  {
   "cell_type": "code",
   "execution_count": 18,
   "id": "37a396f0-90e0-496e-9a52-f661d2cd35ac",
   "metadata": {},
   "outputs": [
    {
     "name": "stdout",
     "output_type": "stream",
     "text": [
      "\n",
      "Top 10 Players by Predicted Score:\n",
      "                    Player  Predicted_Score  VBD\n",
      "17834  LaDainian Tomlinson       242.352113  266\n",
      "1922          O.J. Simpson       238.423206  278\n",
      "17256      Shaun Alexander       216.004695  226\n",
      "13362        Terrell Davis       214.786385  233\n",
      "11778         Emmitt Smith       214.286385  221\n",
      "15531        Priest Holmes       210.401408  220\n",
      "14447       Marshall Faulk       209.166667  228\n",
      "16092        Priest Holmes       208.260563  229\n",
      "2745         Walter Payton       202.284038  209\n",
      "25437  Christian McCaffrey       196.528951  215\n"
     ]
    }
   ],
   "source": [
    "top10 = df[['Player', 'Predicted_Score', 'VBD']].sort_values('Predicted_Score', ascending=False).head(10)\n",
    "print('\\nTop 10 Players by Predicted Score:')\n",
    "print(top10)"
   ]
  },
  {
   "cell_type": "code",
   "execution_count": null,
   "id": "1876b7f9-1bf0-442e-bf75-e07143eab99a",
   "metadata": {},
   "outputs": [],
   "source": []
  }
 ],
 "metadata": {
  "kernelspec": {
   "display_name": "Python 3 (ipykernel)",
   "language": "python",
   "name": "python3"
  },
  "language_info": {
   "codemirror_mode": {
    "name": "ipython",
    "version": 3
   },
   "file_extension": ".py",
   "mimetype": "text/x-python",
   "name": "python",
   "nbconvert_exporter": "python",
   "pygments_lexer": "ipython3",
   "version": "3.12.2"
  }
 },
 "nbformat": 4,
 "nbformat_minor": 5
}
