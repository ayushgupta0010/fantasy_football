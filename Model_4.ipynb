{
 "cells": [
  {
   "cell_type": "code",
   "execution_count": 1,
   "id": "501580a3-a950-45b8-9eb3-093cc0f2522e",
   "metadata": {},
   "outputs": [
    {
     "name": "stderr",
     "output_type": "stream",
     "text": [
      "2025-04-15 14:14:19.974581: I tensorflow/core/util/port.cc:153] oneDNN custom operations are on. You may see slightly different numerical results due to floating-point round-off errors from different computation orders. To turn them off, set the environment variable `TF_ENABLE_ONEDNN_OPTS=0`.\n",
      "2025-04-15 14:14:20.000479: I tensorflow/core/platform/cpu_feature_guard.cc:210] This TensorFlow binary is optimized to use available CPU instructions in performance-critical operations.\n",
      "To enable the following instructions: SSE4.1 SSE4.2 AVX AVX2 AVX512F AVX512_VNNI FMA, in other operations, rebuild TensorFlow with the appropriate compiler flags.\n"
     ]
    }
   ],
   "source": [
    "import pandas as pd\n",
    "import numpy as np\n",
    "from sklearn.model_selection import train_test_split\n",
    "from sklearn.preprocessing import MinMaxScaler\n",
    "from sklearn.metrics import mean_squared_error, mean_absolute_error\n",
    "import tensorflow as tf"
   ]
  },
  {
   "cell_type": "code",
   "execution_count": 2,
   "id": "93a34b8f-c4d5-4540-8190-6a3e66673748",
   "metadata": {},
   "outputs": [
    {
     "data": {
      "text/html": [
       "<div>\n",
       "<style scoped>\n",
       "    .dataframe tbody tr th:only-of-type {\n",
       "        vertical-align: middle;\n",
       "    }\n",
       "\n",
       "    .dataframe tbody tr th {\n",
       "        vertical-align: top;\n",
       "    }\n",
       "\n",
       "    .dataframe thead th {\n",
       "        text-align: right;\n",
       "    }\n",
       "</style>\n",
       "<table border=\"1\" class=\"dataframe\">\n",
       "  <thead>\n",
       "    <tr style=\"text-align: right;\">\n",
       "      <th></th>\n",
       "      <th>Player</th>\n",
       "      <th>Season</th>\n",
       "      <th>Passing Yds</th>\n",
       "      <th>Passing Tds</th>\n",
       "      <th>Rushing Yds</th>\n",
       "      <th>Rushing Tds</th>\n",
       "      <th>Receiving Yds</th>\n",
       "      <th>Receiving Tds</th>\n",
       "      <th>VBD</th>\n",
       "    </tr>\n",
       "  </thead>\n",
       "  <tbody>\n",
       "    <tr>\n",
       "      <th>0</th>\n",
       "      <td>Ron Johnson</td>\n",
       "      <td>1970</td>\n",
       "      <td>0</td>\n",
       "      <td>0</td>\n",
       "      <td>1027</td>\n",
       "      <td>8</td>\n",
       "      <td>48</td>\n",
       "      <td>5</td>\n",
       "      <td>135</td>\n",
       "    </tr>\n",
       "    <tr>\n",
       "      <th>1</th>\n",
       "      <td>Gene Washington</td>\n",
       "      <td>1970</td>\n",
       "      <td>0</td>\n",
       "      <td>0</td>\n",
       "      <td>0</td>\n",
       "      <td>0</td>\n",
       "      <td>44</td>\n",
       "      <td>1</td>\n",
       "      <td>33</td>\n",
       "    </tr>\n",
       "    <tr>\n",
       "      <th>2</th>\n",
       "      <td>MacArthur Lane</td>\n",
       "      <td>1970</td>\n",
       "      <td>0</td>\n",
       "      <td>0</td>\n",
       "      <td>977</td>\n",
       "      <td>11</td>\n",
       "      <td>32</td>\n",
       "      <td>2</td>\n",
       "      <td>126</td>\n",
       "    </tr>\n",
       "    <tr>\n",
       "      <th>3</th>\n",
       "      <td>Warren Wells</td>\n",
       "      <td>1970</td>\n",
       "      <td>0</td>\n",
       "      <td>0</td>\n",
       "      <td>34</td>\n",
       "      <td>0</td>\n",
       "      <td>43</td>\n",
       "      <td>0</td>\n",
       "      <td>112</td>\n",
       "    </tr>\n",
       "    <tr>\n",
       "      <th>4</th>\n",
       "      <td>John Brodie</td>\n",
       "      <td>1970</td>\n",
       "      <td>2941</td>\n",
       "      <td>24</td>\n",
       "      <td>29</td>\n",
       "      <td>2</td>\n",
       "      <td>0</td>\n",
       "      <td>1</td>\n",
       "      <td>105</td>\n",
       "    </tr>\n",
       "  </tbody>\n",
       "</table>\n",
       "</div>"
      ],
      "text/plain": [
       "            Player  Season  Passing Yds  Passing Tds  Rushing Yds  \\\n",
       "0      Ron Johnson    1970            0            0         1027   \n",
       "1  Gene Washington    1970            0            0            0   \n",
       "2   MacArthur Lane    1970            0            0          977   \n",
       "3     Warren Wells    1970            0            0           34   \n",
       "4      John Brodie    1970         2941           24           29   \n",
       "\n",
       "   Rushing Tds  Receiving Yds  Receiving Tds  VBD  \n",
       "0            8             48              5  135  \n",
       "1            0             44              1   33  \n",
       "2           11             32              2  126  \n",
       "3            0             43              0  112  \n",
       "4            2              0              1  105  "
      ]
     },
     "execution_count": 2,
     "metadata": {},
     "output_type": "execute_result"
    }
   ],
   "source": [
    "df = pd.read_csv('data.csv')\n",
    "df.head()"
   ]
  },
  {
   "cell_type": "code",
   "execution_count": 3,
   "id": "1a3420cf-1937-4d1f-a790-42cf0d14d246",
   "metadata": {},
   "outputs": [],
   "source": [
    "aggregated = df.groupby(\"Player\").agg({\n",
    "    'Passing Yds': 'sum',\n",
    "    'Passing Tds': 'sum',\n",
    "    'Rushing Yds': 'sum',\n",
    "    'Rushing Tds': 'sum',\n",
    "    'Receiving Yds': 'sum',\n",
    "    'Receiving Tds': 'sum',\n",
    "    'VBD': 'mean'  # Keep target (VBD) as the mean for regression\n",
    "}).reset_index()"
   ]
  },
  {
   "cell_type": "code",
   "execution_count": 4,
   "id": "dba9d2c7-828c-4802-9243-1c892484b0e7",
   "metadata": {},
   "outputs": [],
   "source": [
    "# Features to normalize\n",
    "features = ['Passing Yds', 'Passing Tds', 'Rushing Yds', 'Rushing Tds', 'Receiving Yds', 'Receiving Tds']\n",
    "\n",
    "scaler = MinMaxScaler()\n",
    "aggregated[features] = scaler.fit_transform(aggregated[features])"
   ]
  },
  {
   "cell_type": "code",
   "execution_count": 5,
   "id": "ad83d662-f420-40bb-b753-42cec9fab93a",
   "metadata": {},
   "outputs": [],
   "source": [
    "X = aggregated.drop(['Player', 'VBD'], axis=1)\n",
    "y = aggregated['VBD']\n",
    "X_train, X_test, y_train, y_test = train_test_split(X, y, test_size=0.2, random_state=42)"
   ]
  },
  {
   "cell_type": "code",
   "execution_count": 6,
   "id": "ae642223-3ab4-4981-9a05-9c7f0f5af093",
   "metadata": {},
   "outputs": [
    {
     "name": "stderr",
     "output_type": "stream",
     "text": [
      "/home/ayush/anaconda3/lib/python3.12/site-packages/keras/src/layers/core/dense.py:87: UserWarning: Do not pass an `input_shape`/`input_dim` argument to a layer. When using Sequential models, prefer using an `Input(shape)` object as the first layer in the model instead.\n",
      "  super().__init__(activity_regularizer=activity_regularizer, **kwargs)\n"
     ]
    }
   ],
   "source": [
    "model = tf.keras.Sequential([\n",
    "    tf.keras.layers.Dense(64, activation='relu', input_shape=(X_train.shape[1],)),\n",
    "    tf.keras.layers.Dense(32, activation='relu'),\n",
    "    tf.keras.layers.Dense(1)  # regression output\n",
    "])"
   ]
  },
  {
   "cell_type": "code",
   "execution_count": 7,
   "id": "755b7203-974b-43dd-84dc-f1afcb1d3075",
   "metadata": {},
   "outputs": [
    {
     "data": {
      "text/plain": [
       "<keras.src.callbacks.history.History at 0x73f74f09ca10>"
      ]
     },
     "execution_count": 7,
     "metadata": {},
     "output_type": "execute_result"
    }
   ],
   "source": [
    "model.compile(optimizer='adam', loss='mse')\n",
    "model.fit(X_train, y_train, epochs=50, batch_size=8, verbose=0)"
   ]
  },
  {
   "cell_type": "code",
   "execution_count": 8,
   "id": "27bf48d8-9d30-4f12-a547-960ce75b9b73",
   "metadata": {},
   "outputs": [
    {
     "name": "stdout",
     "output_type": "stream",
     "text": [
      "\u001b[1m43/43\u001b[0m \u001b[32m━━━━━━━━━━━━━━━━━━━━\u001b[0m\u001b[37m\u001b[0m \u001b[1m0s\u001b[0m 1ms/step \n",
      "MSE: 30.82\n",
      "RMSE: 5.55\n",
      "MAE: 2.43\n"
     ]
    }
   ],
   "source": [
    "y_pred = model.predict(X_test).flatten()\n",
    "\n",
    "mse = mean_squared_error(y_test, y_pred)\n",
    "rmse = np.sqrt(mse)\n",
    "mae = mean_absolute_error(y_test, y_pred)\n",
    "\n",
    "print(f\"MSE: {mse:.2f}\")\n",
    "print(f\"RMSE: {rmse:.2f}\")\n",
    "print(f\"MAE: {mae:.2f}\")"
   ]
  },
  {
   "cell_type": "code",
   "execution_count": 9,
   "id": "63588a2e-dee3-44aa-9380-d6d4e8f75252",
   "metadata": {},
   "outputs": [
    {
     "name": "stdout",
     "output_type": "stream",
     "text": [
      "\u001b[1m214/214\u001b[0m \u001b[32m━━━━━━━━━━━━━━━━━━━━\u001b[0m\u001b[37m\u001b[0m \u001b[1m0s\u001b[0m 851us/step\n",
      "\n",
      "Top 10 Players by Predicted Score:\n",
      "                   Player  NN Predicted Score         VBD\n",
      "2172         Emmitt Smith          109.120003   86.933333\n",
      "4024  LaDainian Tomlinson           96.160004  118.181818\n",
      "6643        Walter Payton           90.580002   98.846154\n",
      "4337         Marcus Allen           86.110001   54.937500\n",
      "4450       Marshall Faulk           79.269997   96.083333\n",
      "372         Barry Sanders           73.870003  120.700000\n",
      "2282        Franco Harris           71.739998   45.461538\n",
      "2185       Eric Dickerson           71.419998   74.454545\n",
      "3446         John Riggins           70.480003   33.571429\n",
      "2286           Frank Gore           70.010002   36.250000\n"
     ]
    }
   ],
   "source": [
    "aggregated[\"NN Predicted Score\"] = model.predict(X).round(2)\n",
    "\n",
    "top10 = aggregated[['Player', 'NN Predicted Score', 'VBD']].sort_values('NN Predicted Score', ascending=False).head(10)\n",
    "print('\\nTop 10 Players by Predicted Score:')\n",
    "print(top10)"
   ]
  },
  {
   "cell_type": "code",
   "execution_count": 10,
   "id": "45eb1699-0208-4194-b228-f442297d97a0",
   "metadata": {},
   "outputs": [],
   "source": [
    "aggregated.to_csv('nn.csv', index=False, columns=['Player', 'NN Predicted Score'])"
   ]
  }
 ],
 "metadata": {
  "kernelspec": {
   "display_name": "Python 3 (ipykernel)",
   "language": "python",
   "name": "python3"
  },
  "language_info": {
   "codemirror_mode": {
    "name": "ipython",
    "version": 3
   },
   "file_extension": ".py",
   "mimetype": "text/x-python",
   "name": "python",
   "nbconvert_exporter": "python",
   "pygments_lexer": "ipython3",
   "version": "3.12.2"
  }
 },
 "nbformat": 4,
 "nbformat_minor": 5
}
